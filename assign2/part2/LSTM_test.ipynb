{
 "cells": [
  {
   "cell_type": "code",
   "execution_count": 1,
   "metadata": {},
   "outputs": [
    {
     "name": "stderr",
     "output_type": "stream",
     "text": [
      "Using TensorFlow backend.\n"
     ]
    },
    {
     "name": "stdout",
     "output_type": "stream",
     "text": [
      "Loading data...\n",
      "(25000, 'training sequences')\n",
      "(25000, 'validation sequences')\n",
      "('x_train shape:', (25000, 500))\n",
      "('x_valid shape:', (25000, 500))\n"
     ]
    }
   ],
   "source": [
    "# Import and load\n",
    "\n",
    "import keras\n",
    "keras.__version__\n",
    "\n",
    "from keras.datasets import imdb\n",
    "from keras.preprocessing.sequence import pad_sequences\n",
    "from keras.models import Sequential\n",
    "from keras import layers\n",
    "from keras.callbacks import ModelCheckpoint\n",
    "\n",
    "import os\n",
    "\n",
    "from sklearn.metrics import roc_auc_score \n",
    "\n",
    "import matplotlib.pyplot as plt \n",
    "%matplotlib inline\n",
    "\n",
    "from matplotlib2tikz import save as tikz_save\n",
    "\n",
    "n_unique_words = 10000 \n",
    "max_review_length = 500\n",
    "\n",
    "print('Loading data...')\n",
    "(x_train, y_train), (x_valid, y_valid) = imdb.load_data(num_words=n_unique_words) # removed n_words_to_skip\n",
    "pad_type = trunc_type = 'pre'\n",
    "x_train = pad_sequences(x_train, maxlen=max_review_length, padding=pad_type, truncating=trunc_type, value=0)\n",
    "x_valid = pad_sequences(x_valid, maxlen=max_review_length, padding=pad_type, truncating=trunc_type, value=0)\n",
    "\n",
    "print(len(x_train), 'training sequences')\n",
    "print(len(x_valid), 'validation sequences')\n",
    "print('x_train shape:', x_train.shape)\n",
    "print('x_valid shape:', x_valid.shape)\n",
    "\n"
   ]
  },
  {
   "cell_type": "code",
   "execution_count": 2,
   "metadata": {},
   "outputs": [],
   "source": [
    "# training:\n",
    "epochs = 5\n",
    "batch_size = 128\n",
    "\n",
    "# vector-space embedding: \n",
    "n_dim = 32\n",
    "\n",
    "# RNN layer architecture:\n",
    "n_rnn = 32 \n",
    "drop_rnn = 0.2\n",
    "\n",
    "model1 = Sequential()\n",
    "model1.add(layers.Embedding(n_unique_words, n_dim))\n",
    "model1.add(layers.LSTM(n_rnn, dropout=drop_rnn, recurrent_dropout=0.2))\n",
    "model1.add(layers.Dense(1, activation='sigmoid')) \n",
    "\n",
    "model2 = Sequential()\n",
    "model2.add(layers.Embedding(n_unique_words, n_dim))\n",
    "model2.add(layers.LSTM(2*n_rnn, dropout=drop_rnn, recurrent_dropout=0.2))\n",
    "model2.add(layers.Dense(1, activation='sigmoid')) \n",
    "\n",
    "model3 = Sequential()\n",
    "model3.add(layers.Embedding(n_unique_words, n_dim))\n",
    "model3.add(layers.LSTM(n_rnn, dropout=drop_rnn, recurrent_dropout=0.2, return_sequences=True))\n",
    "model3.add(layers.LSTM(n_rnn, dropout=drop_rnn, recurrent_dropout=0.2))\n",
    "model3.add(layers.Dense(1, activation='sigmoid')) \n",
    "\n",
    "model4 = Sequential()\n",
    "model4.add(layers.Embedding(n_unique_words, n_dim))\n",
    "model4.add(layers.LSTM(2*n_rnn, dropout=drop_rnn, recurrent_dropout=0.2, return_sequences=True))\n",
    "model4.add(layers.LSTM(2*n_rnn, dropout=drop_rnn, recurrent_dropout=0.2))\n",
    "model4.add(layers.Dense(1, activation='sigmoid')) \n",
    "\n",
    "# output directory name:\n",
    "models = [model1, model2, model3, model4]\n",
    "outdirs =  ['model_output/lstm1',\n",
    "            'model_output/lstm2',\n",
    "            'model_output/lstm3',\n",
    "            'model_output/lstm4']\n"
   ]
  },
  {
   "cell_type": "code",
   "execution_count": 14,
   "metadata": {},
   "outputs": [
    {
     "name": "stdout",
     "output_type": "stream",
     "text": [
      "Train on 25000 samples, validate on 25000 samples\n",
      "Epoch 1/5\n",
      "25000/25000 [==============================] - 83s 3ms/step - loss: 0.5356 - acc: 0.7282 - val_loss: 0.3976 - val_acc: 0.8269\n",
      "Epoch 2/5\n",
      "25000/25000 [==============================] - 82s 3ms/step - loss: 0.3715 - acc: 0.8430 - val_loss: 0.3782 - val_acc: 0.8365\n",
      "Epoch 3/5\n",
      "25000/25000 [==============================] - 82s 3ms/step - loss: 0.3272 - acc: 0.8678 - val_loss: 0.3714 - val_acc: 0.8425\n",
      "Epoch 4/5\n",
      "25000/25000 [==============================] - 82s 3ms/step - loss: 0.4884 - acc: 0.8262 - val_loss: 0.4123 - val_acc: 0.8173\n",
      "Epoch 5/5\n",
      "25000/25000 [==============================] - 84s 3ms/step - loss: 0.3204 - acc: 0.8718 - val_loss: 0.3933 - val_acc: 0.8286\n",
      "Training model 0 complete\n",
      "Train on 25000 samples, validate on 25000 samples\n",
      "Epoch 1/5\n",
      "25000/25000 [==============================] - 124s 5ms/step - loss: 0.5229 - acc: 0.7389 - val_loss: 0.3884 - val_acc: 0.8315\n",
      "Epoch 2/5\n",
      "25000/25000 [==============================] - 120s 5ms/step - loss: 0.3742 - acc: 0.8448 - val_loss: 0.4530 - val_acc: 0.7900\n",
      "Epoch 3/5\n",
      "25000/25000 [==============================] - 118s 5ms/step - loss: 0.3291 - acc: 0.8671 - val_loss: 0.3713 - val_acc: 0.8400\n",
      "Epoch 4/5\n",
      "25000/25000 [==============================] - 128s 5ms/step - loss: 0.2978 - acc: 0.8821 - val_loss: 0.3697 - val_acc: 0.8455\n",
      "Epoch 5/5\n",
      "25000/25000 [==============================] - 128s 5ms/step - loss: 0.2655 - acc: 0.8972 - val_loss: 0.3918 - val_acc: 0.8370\n",
      "Training model 1 complete\n",
      "Train on 25000 samples, validate on 25000 samples\n",
      "Epoch 1/5\n",
      "25000/25000 [==============================] - 161s 6ms/step - loss: 0.5196 - acc: 0.7336 - val_loss: 0.3943 - val_acc: 0.8272\n",
      "Epoch 2/5\n",
      "25000/25000 [==============================] - 156s 6ms/step - loss: 0.3444 - acc: 0.8584 - val_loss: 0.3750 - val_acc: 0.8374\n",
      "Epoch 3/5\n",
      "25000/25000 [==============================] - 155s 6ms/step - loss: 0.3156 - acc: 0.8748 - val_loss: 0.4030 - val_acc: 0.8192\n",
      "Epoch 4/5\n",
      "25000/25000 [==============================] - 182s 7ms/step - loss: 0.2718 - acc: 0.8942 - val_loss: 0.3673 - val_acc: 0.8490\n",
      "Epoch 5/5\n",
      "25000/25000 [==============================] - 154s 6ms/step - loss: 0.2362 - acc: 0.9110 - val_loss: 0.3819 - val_acc: 0.8435\n",
      "Training model 2 complete\n",
      "Train on 25000 samples, validate on 25000 samples\n",
      "Epoch 1/5\n",
      "25000/25000 [==============================] - 265s 11ms/step - loss: 0.4986 - acc: 0.7498 - val_loss: 0.3884 - val_acc: 0.8316\n",
      "Epoch 2/5\n",
      "25000/25000 [==============================] - 269s 11ms/step - loss: 0.3544 - acc: 0.8525 - val_loss: 0.3784 - val_acc: 0.8418\n",
      "Epoch 3/5\n",
      "25000/25000 [==============================] - 279s 11ms/step - loss: 0.2914 - acc: 0.8833 - val_loss: 0.3767 - val_acc: 0.8453\n",
      "Epoch 4/5\n",
      "25000/25000 [==============================] - 280s 11ms/step - loss: 0.2794 - acc: 0.8928 - val_loss: 0.3833 - val_acc: 0.8419\n",
      "Epoch 5/5\n",
      "25000/25000 [==============================] - 244s 10ms/step - loss: 0.2389 - acc: 0.9099 - val_loss: 0.3748 - val_acc: 0.8496\n",
      "Training model 3 complete\n"
     ]
    }
   ],
   "source": [
    "def train_model(model, output_dir):\n",
    "    model.compile(optimizer='adam', loss='binary_crossentropy', metrics=['accuracy'])\n",
    "    modelcheckpoint = ModelCheckpoint(filepath=output_dir+\"/weights.{epoch:02d}.hdf5\")\n",
    "    if not os.path.exists(output_dir):\n",
    "        os.makedirs(output_dir)\n",
    "    history = model.fit(x_train, y_train, batch_size=batch_size, epochs=epochs, verbose=1, validation_data=(x_valid, y_valid), callbacks=[modelcheckpoint])\n",
    "    return history\n",
    "\n",
    "hists = []\n",
    "for k in range(len(models)):\n",
    "    hists.append(train_model(models[k], outdirs[k]))\n",
    "    print('Training model {} complete'.format(k))\n",
    "    "
   ]
  },
  {
   "cell_type": "code",
   "execution_count": 3,
   "metadata": {},
   "outputs": [
    {
     "ename": "NameError",
     "evalue": "name 'hists' is not defined",
     "output_type": "error",
     "traceback": [
      "\u001b[0;31m---------------------------------------------------------------------------\u001b[0m",
      "\u001b[0;31mNameError\u001b[0m                                 Traceback (most recent call last)",
      "\u001b[0;32m<ipython-input-3-5c33eac2f01e>\u001b[0m in \u001b[0;36m<module>\u001b[0;34m()\u001b[0m\n\u001b[1;32m      6\u001b[0m \u001b[0;32mfor\u001b[0m \u001b[0mk\u001b[0m \u001b[0;32min\u001b[0m \u001b[0mrange\u001b[0m\u001b[0;34m(\u001b[0m\u001b[0mlen\u001b[0m\u001b[0;34m(\u001b[0m\u001b[0mmodels\u001b[0m\u001b[0;34m)\u001b[0m\u001b[0;34m)\u001b[0m\u001b[0;34m:\u001b[0m\u001b[0;34m\u001b[0m\u001b[0m\n\u001b[1;32m      7\u001b[0m \u001b[0;34m\u001b[0m\u001b[0m\n\u001b[0;32m----> 8\u001b[0;31m     \u001b[0mhistory\u001b[0m \u001b[0;34m=\u001b[0m \u001b[0mhists\u001b[0m\u001b[0;34m[\u001b[0m\u001b[0mk\u001b[0m\u001b[0;34m]\u001b[0m\u001b[0;34m\u001b[0m\u001b[0m\n\u001b[0m\u001b[1;32m      9\u001b[0m \u001b[0;34m\u001b[0m\u001b[0m\n\u001b[1;32m     10\u001b[0m     \u001b[0macc\u001b[0m \u001b[0;34m=\u001b[0m \u001b[0mhistory\u001b[0m\u001b[0;34m.\u001b[0m\u001b[0mhistory\u001b[0m\u001b[0;34m[\u001b[0m\u001b[0;34m'acc'\u001b[0m\u001b[0;34m]\u001b[0m\u001b[0;34m\u001b[0m\u001b[0m\n",
      "\u001b[0;31mNameError\u001b[0m: name 'hists' is not defined"
     ]
    },
    {
     "data": {
      "text/plain": [
       "<Figure size 432x288 with 0 Axes>"
      ]
     },
     "metadata": {},
     "output_type": "display_data"
    },
    {
     "data": {
      "text/plain": [
       "<Figure size 432x288 with 0 Axes>"
      ]
     },
     "metadata": {},
     "output_type": "display_data"
    }
   ],
   "source": [
    "fig1 = plt.figure(1)\n",
    "plt.clf()\n",
    "fig2 = plt.figure(2)\n",
    "plt.clf()\n",
    "\n",
    "for k in range(len(models)):\n",
    "    \n",
    "    history = hists[k]\n",
    "\n",
    "    acc = history.history['acc']\n",
    "    val_acc = history.history['val_acc']\n",
    "    loss = history.history['loss']\n",
    "    val_loss = history.history['val_loss']\n",
    "\n",
    "    epochs = range(len(acc))\n",
    "    \n",
    "    plt.figure(1)\n",
    "    plt.subplot(2, 2, k+1)\n",
    "    plt.title('Model {}'.format(k+1))\n",
    "    plt.plot(epochs, acc, 'bo', label='Training acc')\n",
    "    plt.plot(epochs, val_acc, 'b', label='Validation acc')\n",
    "    plt.ylim([0.5, 1])\n",
    "    #plt.title('Training and validation accuracy')\n",
    "    plt.legend()\n",
    "\n",
    "    plt.figure(2)\n",
    "    plt.subplot(2, 2, k+1)\n",
    "    plt.title('Model {}'.format(k+1))\n",
    "    plt.plot(epochs, loss, 'bo', label='Training loss')\n",
    "    plt.plot(epochs, val_loss, 'b', label='Validation loss')\n",
    "    #plt.title('Training and validation loss')\n",
    "    plt.ylim([0, 1])\n",
    "    plt.legend()\n",
    "\n",
    "tikz_save(\"../beamer/graphics/LSTM_acc.tex\",\n",
    "             figureheight=\"//figureheight\",\n",
    "             figurewidth=\"//figurewidth\",\n",
    "             figure=fig1)\n",
    "    \n",
    "plt.show()"
   ]
  },
  {
   "cell_type": "code",
   "execution_count": 4,
   "metadata": {},
   "outputs": [
    {
     "name": "stdout",
     "output_type": "stream",
     "text": [
      "Model 1: 91.40\n",
      "Model 2: 91.75\n",
      "Model 3: 90.09\n",
      "Model 4: 92.40\n"
     ]
    }
   ],
   "source": [
    "y_hats = []\n",
    "points = ['2', '3', '3', '5']\n",
    "for k in range(len(models)):\n",
    "    models[k].load_weights(outdirs[k]+\"/weights.0\"+points[k]+\".hdf5\") # zero-indexed\n",
    "    y_hats.append(models[k].predict_proba(x_valid))\n",
    "    print(\"Model {}: {:0.2f}\".format(k+1, roc_auc_score(y_valid, y_hats[k])*100.0))\n",
    "    "
   ]
  },
  {
   "cell_type": "code",
   "execution_count": 6,
   "metadata": {},
   "outputs": [
    {
     "data": {
      "image/png": "[encoded data removed]",
      "text/plain": [
       "<Figure size 432x288 with 4 Axes>"
      ]
     },
     "metadata": {
      "needs_background": "light"
     },
     "output_type": "display_data"
    },
    {
     "name": "stdout",
     "output_type": "stream",
     "text": [
      "=========================================================\n",
      "Please add the following lines to your LaTeX preamble:\n",
      "\n",
      "\\usepackage[utf8]{inputenc}\n",
      "\\usepackage{fontspec} % This line only for XeLaTeX and LuaLaTeX\n",
      "\\usepackage{pgfplots}\n",
      "=========================================================\n",
      "Horizontal alignment will be ignored as no 'x tick label text width' has been passed in the 'extra' parameter\n",
      "Horizontal alignment will be ignored as no 'y tick label text width' has been passed in the 'extra' parameter\n",
      "Horizontal alignment will be ignored as no 'x tick label text width' has been passed in the 'extra' parameter\n",
      "Horizontal alignment will be ignored as no 'y tick label text width' has been passed in the 'extra' parameter\n",
      "Horizontal alignment will be ignored as no 'x tick label text width' has been passed in the 'extra' parameter\n",
      "Horizontal alignment will be ignored as no 'y tick label text width' has been passed in the 'extra' parameter\n",
      "Horizontal alignment will be ignored as no 'x tick label text width' has been passed in the 'extra' parameter\n",
      "Horizontal alignment will be ignored as no 'y tick label text width' has been passed in the 'extra' parameter\n"
     ]
    }
   ],
   "source": [
    "fig3 = plt.figure(3)\n",
    "plt.clf()\n",
    "for k in range(len(models)):\n",
    "    plt.subplot(2, 2, k+1)\n",
    "    plt.title('Model {}'.format(k+1))\n",
    "    plt.hist(y_hats[k], bins=100)\n",
    "    _ = plt.axvline(x=0.5, color='orange')\n",
    "    plt.xlim([0, 1])\n",
    "    \n",
    "plt.show()\n",
    "    \n",
    "tikz_save(\"../beamer/graphics/LSTM_hists.tex\",\n",
    "             figureheight=\"\\\\figureheight\",\n",
    "             figurewidth=\"\\\\figurewidth\",\n",
    "             figure=fig3)"
   ]
  }
 ],
 "metadata": {
  "kernelspec": {
   "display_name": "Python 2",
   "language": "python",
   "name": "python2"
  },
  "language_info": {
   "codemirror_mode": {
    "name": "ipython",
    "version": 2
   },
   "file_extension": ".py",
   "mimetype": "text/x-python",
   "name": "python",
   "nbconvert_exporter": "python",
   "pygments_lexer": "ipython2",
   "version": "2.7.15"
  }
 },
 "nbformat": 4,
 "nbformat_minor": 2
}
