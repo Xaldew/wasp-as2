{
 "cells": [
  {
   "cell_type": "code",
   "execution_count": 1,
   "metadata": {},
   "outputs": [
    {
     "name": "stderr",
     "output_type": "stream",
     "text": [
      "Using TensorFlow backend.\n"
     ]
    },
    {
     "name": "stdout",
     "output_type": "stream",
     "text": [
      "Loading data...\n",
      "(25000, 'training sequences')\n",
      "(25000, 'validation sequences')\n",
      "('x_train shape:', (25000, 500))\n",
      "('x_valid shape:', (25000, 500))\n"
     ]
    }
   ],
   "source": [
    "# Import and load\n",
    "\n",
    "import keras\n",
    "keras.__version__\n",
    "\n",
    "from keras.datasets import imdb\n",
    "from keras.preprocessing.sequence import pad_sequences\n",
    "from keras.models import Sequential\n",
    "from keras import layers\n",
    "from keras.callbacks import ModelCheckpoint\n",
    "\n",
    "import os\n",
    "\n",
    "from sklearn.metrics import roc_auc_score \n",
    "\n",
    "import matplotlib.pyplot as plt \n",
    "%matplotlib inline\n",
    "\n",
    "from matplotlib2tikz import save as tikz_save\n",
    "\n",
    "# output directory name:\n",
    "output_dir1 = 'model_output/rnn1'\n",
    "output_dir2 = 'model_output/rnn2'\n",
    "output_dir3 = 'model_output/rnn3'\n",
    "output_dir4 = 'model_output/rnn4'\n",
    "\n",
    "n_unique_words = 10000 \n",
    "max_review_length = 500\n",
    "\n",
    "print('Loading data...')\n",
    "(x_train, y_train), (x_valid, y_valid) = imdb.load_data(num_words=n_unique_words) # removed n_words_to_skip\n",
    "pad_type = trunc_type = 'pre'\n",
    "x_train = pad_sequences(x_train, maxlen=max_review_length, padding=pad_type, truncating=trunc_type, value=0)\n",
    "x_valid = pad_sequences(x_valid, maxlen=max_review_length, padding=pad_type, truncating=trunc_type, value=0)\n",
    "\n",
    "print(len(x_train), 'training sequences')\n",
    "print(len(x_valid), 'validation sequences')\n",
    "print('x_train shape:', x_train.shape)\n",
    "print('x_valid shape:', x_valid.shape)\n",
    "\n"
   ]
  },
  {
   "cell_type": "code",
   "execution_count": 2,
   "metadata": {},
   "outputs": [],
   "source": [
    "# training:\n",
    "epochs = 5\n",
    "batch_size = 128\n",
    "\n",
    "# vector-space embedding: \n",
    "n_dim = 32\n",
    "\n",
    "# RNN layer architecture:\n",
    "n_rnn = 32 \n",
    "drop_rnn = 0.2\n",
    "\n",
    "model1 = Sequential()\n",
    "model1.add(layers.Embedding(n_unique_words, n_dim))\n",
    "model1.add(layers.SimpleRNN(n_rnn, dropout=drop_rnn))\n",
    "model1.add(layers.Dense(1, activation='sigmoid'))\n",
    "\n",
    "model2 = Sequential()\n",
    "model2.add(layers.Embedding(n_unique_words, n_dim))\n",
    "model2.add(layers.SimpleRNN(n_rnn, dropout=drop_rnn, return_sequences=True))\n",
    "model2.add(layers.SimpleRNN(n_rnn, dropout=drop_rnn))\n",
    "model2.add(layers.Dense(1, activation='sigmoid'))\n",
    "\n",
    "model3 = Sequential()\n",
    "model3.add(layers.Embedding(n_unique_words, n_dim))\n",
    "model3.add(layers.SimpleRNN(n_rnn, dropout=drop_rnn, return_sequences=True))\n",
    "model3.add(layers.SimpleRNN(n_rnn, dropout=drop_rnn, return_sequences=True))\n",
    "model3.add(layers.SimpleRNN(n_rnn, dropout=drop_rnn))\n",
    "model3.add(layers.Dense(1, activation='sigmoid'))\n",
    "\n",
    "model4 = Sequential()\n",
    "model4.add(layers.Embedding(n_unique_words, n_dim))\n",
    "model4.add(layers.SimpleRNN(n_rnn, dropout=drop_rnn, return_sequences=True))\n",
    "model4.add(layers.SimpleRNN(n_rnn, dropout=drop_rnn, return_sequences=True))\n",
    "model4.add(layers.SimpleRNN(n_rnn, dropout=drop_rnn, return_sequences=True))\n",
    "model4.add(layers.SimpleRNN(n_rnn, dropout=drop_rnn))\n",
    "model4.add(layers.Dense(1, activation='sigmoid'))\n",
    "\n",
    "models = [model1, model2, model3, model4]\n",
    "outdirs = [output_dir1, output_dir2, output_dir3, output_dir4]"
   ]
  },
  {
   "cell_type": "code",
   "execution_count": 3,
   "metadata": {},
   "outputs": [
    {
     "name": "stdout",
     "output_type": "stream",
     "text": [
      "Train on 25000 samples, validate on 25000 samples\n",
      "Epoch 1/5\n",
      "25000/25000 [==============================] - 33s 1ms/step - loss: 0.6501 - acc: 0.6059 - val_loss: 0.5151 - val_acc: 0.7626\n",
      "Epoch 2/5\n",
      "25000/25000 [==============================] - 35s 1ms/step - loss: 0.4835 - acc: 0.7758 - val_loss: 0.4836 - val_acc: 0.7732\n",
      "Epoch 3/5\n",
      "25000/25000 [==============================] - 56s 2ms/step - loss: 0.3234 - acc: 0.8657 - val_loss: 0.3706 - val_acc: 0.8424\n",
      "Epoch 4/5\n",
      "25000/25000 [==============================] - 52s 2ms/step - loss: 0.2251 - acc: 0.9130 - val_loss: 0.3922 - val_acc: 0.8284\n",
      "Epoch 5/5\n",
      "25000/25000 [==============================] - 57s 2ms/step - loss: 0.1635 - acc: 0.9400 - val_loss: 0.3951 - val_acc: 0.8520\n",
      "Training model 0 complete\n",
      "Train on 25000 samples, validate on 25000 samples\n",
      "Epoch 1/5\n",
      "25000/25000 [==============================] - 104s 4ms/step - loss: 0.6469 - acc: 0.5872 - val_loss: 0.4235 - val_acc: 0.8160\n",
      "Epoch 2/5\n",
      "25000/25000 [==============================] - 99s 4ms/step - loss: 0.3524 - acc: 0.8543 - val_loss: 0.3314 - val_acc: 0.8648\n",
      "Epoch 3/5\n",
      "25000/25000 [==============================] - 100s 4ms/step - loss: 0.3183 - acc: 0.8728 - val_loss: 0.3751 - val_acc: 0.8442\n",
      "Epoch 4/5\n",
      "25000/25000 [==============================] - 111s 4ms/step - loss: 0.2335 - acc: 0.9121 - val_loss: 0.3800 - val_acc: 0.8492\n",
      "Epoch 5/5\n",
      "25000/25000 [==============================] - 105s 4ms/step - loss: 0.1619 - acc: 0.9429 - val_loss: 0.4345 - val_acc: 0.8500\n",
      "Training model 1 complete\n",
      "Train on 25000 samples, validate on 25000 samples\n",
      "Epoch 1/5\n",
      "25000/25000 [==============================] - 150s 6ms/step - loss: 0.6967 - acc: 0.5221 - val_loss: 0.6753 - val_acc: 0.5826\n",
      "Epoch 2/5\n",
      "25000/25000 [==============================] - 157s 6ms/step - loss: 0.4802 - acc: 0.7739 - val_loss: 0.4076 - val_acc: 0.8215\n",
      "Epoch 3/5\n",
      "25000/25000 [==============================] - 109s 4ms/step - loss: 0.3006 - acc: 0.8821 - val_loss: 0.4762 - val_acc: 0.8164\n",
      "Epoch 4/5\n",
      "25000/25000 [==============================] - 82s 3ms/step - loss: 0.1998 - acc: 0.9264 - val_loss: 0.4698 - val_acc: 0.8176\n",
      "Epoch 5/5\n",
      "25000/25000 [==============================] - 93s 4ms/step - loss: 0.1217 - acc: 0.9560 - val_loss: 0.5246 - val_acc: 0.8406\n",
      "Training model 2 complete\n",
      "Train on 25000 samples, validate on 25000 samples\n",
      "Epoch 1/5\n",
      "25000/25000 [==============================] - 116s 5ms/step - loss: 0.7038 - acc: 0.4989 - val_loss: 0.6951 - val_acc: 0.5000\n",
      "Epoch 2/5\n",
      "25000/25000 [==============================] - 160s 6ms/step - loss: 0.6937 - acc: 0.5084 - val_loss: 0.6919 - val_acc: 0.5254\n",
      "Epoch 3/5\n",
      "25000/25000 [==============================] - 123s 5ms/step - loss: 0.6572 - acc: 0.6020 - val_loss: 0.5100 - val_acc: 0.7707\n",
      "Epoch 4/5\n",
      "25000/25000 [==============================] - 119s 5ms/step - loss: 0.4600 - acc: 0.7918 - val_loss: 0.4178 - val_acc: 0.8242\n",
      "Epoch 5/5\n",
      "25000/25000 [==============================] - 139s 6ms/step - loss: 0.3217 - acc: 0.8696 - val_loss: 0.4839 - val_acc: 0.8202\n",
      "Training model 3 complete\n"
     ]
    }
   ],
   "source": [
    "def train_model(model, output_dir):\n",
    "    model.compile(optimizer='adam', loss='binary_crossentropy', metrics=['accuracy'])\n",
    "    modelcheckpoint = ModelCheckpoint(filepath=output_dir+\"/weights.{epoch:02d}.hdf5\")\n",
    "    if not os.path.exists(output_dir):\n",
    "        os.makedirs(output_dir)\n",
    "    history = model.fit(x_train, y_train, batch_size=batch_size, epochs=epochs, verbose=1, validation_data=(x_valid, y_valid), callbacks=[modelcheckpoint])\n",
    "    return history\n",
    "\n",
    "hists = []\n",
    "for k in range(len(models)):\n",
    "    hists.append(train_model(models[k], outdirs[k]))\n",
    "    print('Training model {} complete'.format(k))\n",
    "    "
   ]
  },
  {
   "cell_type": "code",
   "execution_count": 20,
   "metadata": {},
   "outputs": [
    {
     "name": "stdout",
     "output_type": "stream",
     "text": [
      "=========================================================\n",
      "Please add the following lines to your LaTeX preamble:\n",
      "\n",
      "\\usepackage[utf8]{inputenc}\n",
      "\\usepackage{fontspec} % This line only for XeLaTeX and LuaLaTeX\n",
      "\\usepackage{pgfplots}\n",
      "=========================================================\n",
      "Horizontal alignment will be ignored as no 'x tick label text width' has been passed in the 'extra' parameter\n",
      "Horizontal alignment will be ignored as no 'y tick label text width' has been passed in the 'extra' parameter\n",
      "Horizontal alignment will be ignored as no 'x tick label text width' has been passed in the 'extra' parameter\n",
      "Horizontal alignment will be ignored as no 'y tick label text width' has been passed in the 'extra' parameter\n",
      "Horizontal alignment will be ignored as no 'x tick label text width' has been passed in the 'extra' parameter\n",
      "Horizontal alignment will be ignored as no 'y tick label text width' has been passed in the 'extra' parameter\n",
      "Horizontal alignment will be ignored as no 'x tick label text width' has been passed in the 'extra' parameter\n",
      "Horizontal alignment will be ignored as no 'y tick label text width' has been passed in the 'extra' parameter\n",
      "=========================================================\n",
      "Please add the following lines to your LaTeX preamble:\n",
      "\n",
      "\\usepackage[utf8]{inputenc}\n",
      "\\usepackage{fontspec} % This line only for XeLaTeX and LuaLaTeX\n",
      "\\usepackage{pgfplots}\n",
      "=========================================================\n",
      "Horizontal alignment will be ignored as no 'x tick label text width' has been passed in the 'extra' parameter\n",
      "Horizontal alignment will be ignored as no 'y tick label text width' has been passed in the 'extra' parameter\n",
      "Horizontal alignment will be ignored as no 'x tick label text width' has been passed in the 'extra' parameter\n",
      "Horizontal alignment will be ignored as no 'y tick label text width' has been passed in the 'extra' parameter\n",
      "Horizontal alignment will be ignored as no 'x tick label text width' has been passed in the 'extra' parameter\n",
      "Horizontal alignment will be ignored as no 'y tick label text width' has been passed in the 'extra' parameter\n",
      "Horizontal alignment will be ignored as no 'x tick label text width' has been passed in the 'extra' parameter\n",
      "Horizontal alignment will be ignored as no 'y tick label text width' has been passed in the 'extra' parameter\n"
     ]
    },
    {
     "data": {
      "image/png": "[encoded data removed]",
      "text/plain": [
       "<Figure size 432x288 with 4 Axes>"
      ]
     },
     "metadata": {
      "needs_background": "light"
     },
     "output_type": "display_data"
    },
    {
     "data": {
      "image/png": "[encoded data removed]",
      "text/plain": [
       "<Figure size 432x288 with 4 Axes>"
      ]
     },
     "metadata": {
      "needs_background": "light"
     },
     "output_type": "display_data"
    }
   ],
   "source": [
    "fig1 = plt.figure(1)\n",
    "plt.clf()\n",
    "fig2 = plt.figure(2)\n",
    "plt.clf()\n",
    "\n",
    "for k in range(len(models)):\n",
    "    \n",
    "    history = hists[k]\n",
    "\n",
    "    acc = history.history['acc']\n",
    "    val_acc = history.history['val_acc']\n",
    "    loss = history.history['loss']\n",
    "    val_loss = history.history['val_loss']\n",
    "\n",
    "    epochs = range(len(acc))\n",
    "    \n",
    "    plt.figure(1)\n",
    "    plt.subplot(2, 2, k+1)\n",
    "    plt.title('Model {}'.format(k+1))\n",
    "    plt.plot(epochs, acc, 'bo', label='Training acc')\n",
    "    plt.plot(epochs, val_acc, 'b', label='Validation acc')\n",
    "    plt.ylim([0.5, 1])\n",
    "    #plt.title('Training and validation accuracy')\n",
    "    if k < 2:\n",
    "        plt.gca().axes.get_xaxis().set_visible(False)\n",
    "    #plt.legend()\n",
    "\n",
    "    plt.figure(2)\n",
    "    plt.subplot(2, 2, k+1)\n",
    "    plt.title('Model {}'.format(k+1))\n",
    "    plt.plot(epochs, loss, 'bo', label='Training loss')\n",
    "    plt.plot(epochs, val_loss, 'b', label='Validation loss')\n",
    "    #plt.title('Training and validation loss')\n",
    "    plt.ylim([0, 1])\n",
    "    if k < 2:\n",
    "        plt.gca().axes.get_xaxis().set_visible(False)\n",
    "    #plt.legend()\n",
    "    \n",
    "    \n",
    "tikz_save(\"../beamer/graphics/RNN_acc.tex\", \n",
    "            figureheight='\\\\figureheight',\n",
    "            figurewidth='\\\\figurewidth',\n",
    "            figure=fig1)\n",
    "tikz_save(\"../beamer/graphics/RNN_loss.tex\",\n",
    "            figureheight='\\\\figureheight',\n",
    "            figurewidth='\\\\figurewidth',\n",
    "            figure=fig2)\n",
    "plt.show()\n",
    "\n"
   ]
  },
  {
   "cell_type": "code",
   "execution_count": 14,
   "metadata": {},
   "outputs": [
    {
     "data": {
      "text/plain": [
       "<matplotlib.axes._subplots.AxesSubplot at 0x7f4688a4af50>"
      ]
     },
     "execution_count": 14,
     "metadata": {},
     "output_type": "execute_result"
    }
   ],
   "source": [
    "fig1.gca()"
   ]
  },
  {
   "cell_type": "code",
   "execution_count": 9,
   "metadata": {},
   "outputs": [
    {
     "name": "stdout",
     "output_type": "stream",
     "text": [
      "Model 1: 86.34\n",
      "Model 2: 93.49\n",
      "Model 3: 66.09\n",
      "Model 4: 52.38\n"
     ]
    }
   ],
   "source": [
    "\n",
    "y_hats = []\n",
    "points = ['2', '2', '1', '1']\n",
    "for k in range(len(models)):\n",
    "    models[k].load_weights(outdirs[k]+\"/weights.0\"+points[k]+\".hdf5\") # zero-indexed\n",
    "    y_hats.append(models[k].predict_proba(x_valid))\n",
    "    print(\"Model {}: {:0.2f}\".format(k+1, roc_auc_score(y_valid, y_hats[k])*100.0))\n",
    "    "
   ]
  },
  {
   "cell_type": "code",
   "execution_count": 11,
   "metadata": {},
   "outputs": [
    {
     "name": "stdout",
     "output_type": "stream",
     "text": [
      "=========================================================\n",
      "Please add the following lines to your LaTeX preamble:\n",
      "\n",
      "\\usepackage[utf8]{inputenc}\n",
      "\\usepackage{fontspec} % This line only for XeLaTeX and LuaLaTeX\n",
      "\\usepackage{pgfplots}\n",
      "=========================================================\n",
      "Horizontal alignment will be ignored as no 'x tick label text width' has been passed in the 'extra' parameter\n",
      "Horizontal alignment will be ignored as no 'y tick label text width' has been passed in the 'extra' parameter\n",
      "Horizontal alignment will be ignored as no 'x tick label text width' has been passed in the 'extra' parameter\n",
      "Horizontal alignment will be ignored as no 'y tick label text width' has been passed in the 'extra' parameter\n",
      "Horizontal alignment will be ignored as no 'x tick label text width' has been passed in the 'extra' parameter\n",
      "Horizontal alignment will be ignored as no 'y tick label text width' has been passed in the 'extra' parameter\n",
      "Horizontal alignment will be ignored as no 'x tick label text width' has been passed in the 'extra' parameter\n",
      "Horizontal alignment will be ignored as no 'y tick label text width' has been passed in the 'extra' parameter\n"
     ]
    },
    {
     "data": {
      "image/png": "[encoded data removed]",
      "text/plain": [
       "<Figure size 432x288 with 4 Axes>"
      ]
     },
     "metadata": {
      "needs_background": "light"
     },
     "output_type": "display_data"
    }
   ],
   "source": [
    "fig3 = plt.figure(3)\n",
    "plt.clf()\n",
    "for k in range(len(models)):\n",
    "    plt.subplot(2, 2, k+1)\n",
    "    plt.title('Model {}'.format(k+1))\n",
    "    plt.hist(y_hats[k], bins=100)\n",
    "    _ = plt.axvline(x=0.5, color='orange')\n",
    "    plt.xlim([0, 1])\n",
    "    \n",
    "tikz_save(\"../beamer/graphics/RNN_hists.tex\", \n",
    "            figureheight='\\\\figureheight',\n",
    "            figurewidth='\\\\figurewidth',\n",
    "            figure=fig3)\n"
   ]
  }
 ],
 "metadata": {
  "kernelspec": {
   "display_name": "Python 2",
   "language": "python",
   "name": "python2"
  },
  "language_info": {
   "codemirror_mode": {
    "name": "ipython",
    "version": 2
   },
   "file_extension": ".py",
   "mimetype": "text/x-python",
   "name": "python",
   "nbconvert_exporter": "python",
   "pygments_lexer": "ipython2",
   "version": "2.7.15"
  }
 },
 "nbformat": 4,
 "nbformat_minor": 2
}
